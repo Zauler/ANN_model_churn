{
 "cells": [
  {
   "cell_type": "markdown",
   "metadata": {},
   "source": [
    "# Part 1 - preprocessing of data"
   ]
  },
  {
   "cell_type": "code",
   "execution_count": 1,
   "metadata": {},
   "outputs": [],
   "source": [
    "#Import libraries\n",
    "import numpy as np\n",
    "import matplotlib.pyplot as plt \n",
    "import pandas as pd \n",
    "\n",
    "#Import Dataset\n",
    "\n",
    "dataset = pd.read_csv(\"./Data/Churn_Modelling.csv\")\n",
    "\n",
    "X = dataset.iloc[:,3:-1]\n",
    "y = dataset.iloc[:,-1]"
   ]
  },
  {
   "cell_type": "code",
   "execution_count": 2,
   "metadata": {},
   "outputs": [],
   "source": [
    "#Coding categorical data\n",
    "from sklearn.preprocessing import LabelEncoder,OneHotEncoder\n",
    "from sklearn.compose import ColumnTransformer\n",
    "\n",
    "categorical_features = [\"Geography\",\"Gender\"]\n",
    "\n",
    "column_transformer = ColumnTransformer(\n",
    "    transformers=[\n",
    "        (\"onehot\", OneHotEncoder(drop='first'), categorical_features) #We avoid multilinearity using \"drop=first\"\n",
    "    ],\n",
    "    remainder='passthrough'\n",
    ")\n",
    "\n",
    "X_transformed = column_transformer.fit_transform(X)\n",
    "\n",
    "#Split dataset into training and testing\n",
    "from sklearn.model_selection import train_test_split\n",
    "X_train, X_test, y_train, y_test = train_test_split(X_transformed, y, test_size=0.2, random_state=0 )\n",
    "\n",
    "#Variable scaling\n",
    "from sklearn.preprocessing import StandardScaler\n",
    "sc_X = StandardScaler()\n",
    "X_train = sc_X.fit_transform(X_train)\n",
    "X_test = sc_X.transform(X_test)\n"
   ]
  },
  {
   "cell_type": "markdown",
   "metadata": {},
   "source": [
    "# Part 2 - Building the ANN\n"
   ]
  },
  {
   "cell_type": "code",
   "execution_count": null,
   "metadata": {},
   "outputs": [],
   "source": [
    "#Import Keras and additional libraries\n",
    "import keras\n",
    "from keras.models import Sequential\n",
    "from keras.layers import Dense, Dropout\n",
    "\n",
    "#Initialise RNA\n",
    "classifier= Sequential()\n",
    "#Input layer and first hidden layer\n",
    "classifier.add(Dense(units = 6, kernel_initializer=\"uniform\",\n",
    "                     activation=\"relu\", input_dim= X_train.shape[1]))\n",
    "#Add second hidden layer\n",
    "classifier.add(Dense(units = 6, kernel_initializer=\"uniform\",\n",
    "                     activation=\"relu\"))\n",
    "#Exit layer\n",
    "classifier.add(Dense(units = 1, kernel_initializer=\"uniform\",\n",
    "                     activation=\"sigmoid\"))\n",
    "#Compiling RNA\n",
    "classifier.compile(optimizer=\"adam\", loss=\"binary_crossentropy\", metrics= [\"accuracy\"])\n",
    "\n",
    "#Fitting the ANN to the training dataset\n",
    "classifier.fit(X_train,y_train, batch_size= 10, epochs= 100 , verbose=0)\n"
   ]
  },
  {
   "cell_type": "markdown",
   "metadata": {},
   "source": [
    "# Part 3 - Evaluate the model and calculate final predictions"
   ]
  },
  {
   "cell_type": "code",
   "execution_count": 4,
   "metadata": {},
   "outputs": [
    {
     "name": "stdout",
     "output_type": "stream",
     "text": [
      "63/63 [==============================] - 0s 419us/step\n",
      "[[1544   51]\n",
      " [ 267  138]]\n",
      "0.841\n"
     ]
    }
   ],
   "source": [
    "# Using the model to predict\n",
    "y_pred = classifier.predict(X_test)\n",
    "y_pred = (y_pred>0.5)\n",
    " \n",
    "#Developing a confusion matrix\n",
    "from sklearn.metrics import confusion_matrix\n",
    "cm = confusion_matrix(y_test,y_pred)\n",
    "\n",
    "# Data of the function matrix (right now it is not important that it looks nice)\n",
    "print(cm)\n",
    "print((cm[0][0]+cm[1][1])/cm.sum())"
   ]
  },
  {
   "cell_type": "code",
   "execution_count": 5,
   "metadata": {},
   "outputs": [
    {
     "data": {
      "text/html": [
       "<div>\n",
       "<style scoped>\n",
       "    .dataframe tbody tr th:only-of-type {\n",
       "        vertical-align: middle;\n",
       "    }\n",
       "\n",
       "    .dataframe tbody tr th {\n",
       "        vertical-align: top;\n",
       "    }\n",
       "\n",
       "    .dataframe thead th {\n",
       "        text-align: right;\n",
       "    }\n",
       "</style>\n",
       "<table border=\"1\" class=\"dataframe\">\n",
       "  <thead>\n",
       "    <tr style=\"text-align: right;\">\n",
       "      <th></th>\n",
       "      <th>CreditScore</th>\n",
       "      <th>Geography</th>\n",
       "      <th>Gender</th>\n",
       "      <th>Age</th>\n",
       "      <th>Tenure</th>\n",
       "      <th>Balance</th>\n",
       "      <th>NumOfProducts</th>\n",
       "      <th>HasCrCard</th>\n",
       "      <th>IsActiveMember</th>\n",
       "      <th>EstimatedSalary</th>\n",
       "    </tr>\n",
       "  </thead>\n",
       "  <tbody>\n",
       "    <tr>\n",
       "      <th>9995</th>\n",
       "      <td>771</td>\n",
       "      <td>France</td>\n",
       "      <td>Male</td>\n",
       "      <td>39</td>\n",
       "      <td>5</td>\n",
       "      <td>0.00</td>\n",
       "      <td>2</td>\n",
       "      <td>1</td>\n",
       "      <td>0</td>\n",
       "      <td>96270.64</td>\n",
       "    </tr>\n",
       "    <tr>\n",
       "      <th>9996</th>\n",
       "      <td>516</td>\n",
       "      <td>France</td>\n",
       "      <td>Male</td>\n",
       "      <td>35</td>\n",
       "      <td>10</td>\n",
       "      <td>57369.61</td>\n",
       "      <td>1</td>\n",
       "      <td>1</td>\n",
       "      <td>1</td>\n",
       "      <td>101699.77</td>\n",
       "    </tr>\n",
       "    <tr>\n",
       "      <th>9997</th>\n",
       "      <td>709</td>\n",
       "      <td>France</td>\n",
       "      <td>Female</td>\n",
       "      <td>36</td>\n",
       "      <td>7</td>\n",
       "      <td>0.00</td>\n",
       "      <td>1</td>\n",
       "      <td>0</td>\n",
       "      <td>1</td>\n",
       "      <td>42085.58</td>\n",
       "    </tr>\n",
       "    <tr>\n",
       "      <th>9998</th>\n",
       "      <td>772</td>\n",
       "      <td>Germany</td>\n",
       "      <td>Male</td>\n",
       "      <td>42</td>\n",
       "      <td>3</td>\n",
       "      <td>75075.31</td>\n",
       "      <td>2</td>\n",
       "      <td>1</td>\n",
       "      <td>0</td>\n",
       "      <td>92888.52</td>\n",
       "    </tr>\n",
       "    <tr>\n",
       "      <th>9999</th>\n",
       "      <td>792</td>\n",
       "      <td>France</td>\n",
       "      <td>Female</td>\n",
       "      <td>28</td>\n",
       "      <td>4</td>\n",
       "      <td>130142.79</td>\n",
       "      <td>1</td>\n",
       "      <td>1</td>\n",
       "      <td>0</td>\n",
       "      <td>38190.78</td>\n",
       "    </tr>\n",
       "  </tbody>\n",
       "</table>\n",
       "</div>"
      ],
      "text/plain": [
       "      CreditScore Geography  Gender  Age  Tenure    Balance  NumOfProducts  \\\n",
       "9995          771    France    Male   39       5       0.00              2   \n",
       "9996          516    France    Male   35      10   57369.61              1   \n",
       "9997          709    France  Female   36       7       0.00              1   \n",
       "9998          772   Germany    Male   42       3   75075.31              2   \n",
       "9999          792    France  Female   28       4  130142.79              1   \n",
       "\n",
       "      HasCrCard  IsActiveMember  EstimatedSalary  \n",
       "9995          1               0         96270.64  \n",
       "9996          1               1        101699.77  \n",
       "9997          0               1         42085.58  \n",
       "9998          1               0         92888.52  \n",
       "9999          1               0         38190.78  "
      ]
     },
     "execution_count": 5,
     "metadata": {},
     "output_type": "execute_result"
    }
   ],
   "source": [
    "X.tail()"
   ]
  },
  {
   "cell_type": "code",
   "execution_count": 6,
   "metadata": {},
   "outputs": [
    {
     "name": "stdout",
     "output_type": "stream",
     "text": [
      "1/1 [==============================] - 0s 12ms/step\n",
      "[[0.08894467]]\n"
     ]
    }
   ],
   "source": [
    "# Particular case of use\n",
    "person = np.array([[600,\"France\",\"Male\",\"40\",3,60000,2,1,1,50000]])\n",
    "person = pd.DataFrame(person, columns = X.columns)\n",
    "\n",
    "person_1 = column_transformer.transform(person)\n",
    "person_2 = sc_X.transform(person_1)\n",
    "y_person = classifier.predict(person_2)\n",
    "print(y_person)"
   ]
  },
  {
   "cell_type": "markdown",
   "metadata": {},
   "source": [
    "# Par 4 - Reconstruction part 2  adding cross validation "
   ]
  },
  {
   "cell_type": "code",
   "execution_count": 7,
   "metadata": {},
   "outputs": [
    {
     "name": "stdout",
     "output_type": "stream",
     "text": [
      "Accuracies:  [0.84    0.8375  0.8775  0.84125 0.83375 0.825   0.84    0.825   0.8175\n",
      " 0.84125]\n",
      "Mean:  0.837875\n",
      "Variance:  0.015381096352341073\n"
     ]
    }
   ],
   "source": [
    "from scikeras.wrappers import KerasClassifier\n",
    "from sklearn.model_selection import cross_val_score\n",
    "\n",
    "def build_classifier():\n",
    "    #Initialise RNA\n",
    "    classifier= Sequential()\n",
    "    #Input layer and first hidden layer\n",
    "    classifier.add(Dense(units = 6, kernel_initializer=\"uniform\",\n",
    "                        activation=\"relu\", input_dim= X_train.shape[1]))\n",
    "    classifier.add(Dropout(rate = 0.1)) #10% of the layers are disabled. Better to go from 10% to 10% to test.\n",
    "    #Add second hidden layer\n",
    "    classifier.add(Dense(units = 6, kernel_initializer=\"uniform\",\n",
    "                        activation=\"relu\"))\n",
    "    classifier.add(Dropout(rate = 0.1))\n",
    "     \n",
    "    #Exit layer\n",
    "    classifier.add(Dense(units = 1, kernel_initializer=\"uniform\",\n",
    "                        activation=\"sigmoid\"))\n",
    "    #Compiling the ANN\n",
    "    classifier.compile(optimizer=\"adam\", loss=\"binary_crossentropy\", metrics= [\"accuracy\"])\n",
    "    \n",
    "    #Return the classifier\n",
    "    return  classifier\n",
    "\n",
    "classifier = KerasClassifier(build_fn = build_classifier, batch_size= 10, epochs=100 )\n",
    "accuracies = cross_val_score(estimator=classifier, X=X_train, y= y_train, cv=10, n_jobs = -1, verbose=0) #Validación cruzada de 10 muestras\n",
    "\n",
    "#Priting cross validation score accuracies\n",
    "print(\"Accuracies: \", accuracies)\n",
    "mean = accuracies.mean()\n",
    "variance = accuracies.std()\n",
    "print(\"Mean: \",mean)\n",
    "print(\"Variance: \", variance)\n"
   ]
  },
  {
   "cell_type": "markdown",
   "metadata": {},
   "source": [
    "# IMPROVING THE NNR"
   ]
  },
  {
   "cell_type": "code",
   "execution_count": 8,
   "metadata": {},
   "outputs": [],
   "source": [
    "from sklearn.model_selection import GridSearchCV\n",
    "\n",
    "def build_classifier(optimizer= \"adam\"):\n",
    "    #Initialise RNA\n",
    "    classifier= Sequential()\n",
    "    #Input layer and first hidden layer\n",
    "    classifier.add(Dense(units = 6, kernel_initializer=\"uniform\",\n",
    "                        activation=\"relu\", input_dim= X_train.shape[1]))\n",
    "    #Add second hidden layer\n",
    "    classifier.add(Dense(units = 6, kernel_initializer=\"uniform\",\n",
    "                        activation=\"relu\"))\n",
    "    #classifier.add(Dropout(rate = 0.1))\n",
    "    #Exit layer\n",
    "    classifier.add(Dense(units = 1, kernel_initializer=\"uniform\",\n",
    "                        activation=\"sigmoid\"))\n",
    "    #Compiling RNA\n",
    "    classifier.compile(optimizer=optimizer, loss=\"binary_crossentropy\", metrics= [\"accuracy\"])\n",
    "    \n",
    "    #Devolver el Return classifier\n",
    "    return  classifier\n",
    "\n",
    "classifier = KerasClassifier(build_fn = build_classifier)\n",
    "\n",
    "parameters = {\n",
    "    \"batch_size\": [10,25,32],\n",
    "    \"epochs\": [100, 250],\n",
    "    \"optimizer\" : [\"adam\", \"rmsprop\"],\n",
    "}"
   ]
  },
  {
   "cell_type": "code",
   "execution_count": null,
   "metadata": {},
   "outputs": [],
   "source": [
    "grid_search = GridSearchCV(estimator = classifier, \n",
    "                            param_grid = parameters,\n",
    "                            scoring=\"accuracy\",\n",
    "                            cv = 10 )\n",
    "grid_search = grid_search.fit(X_train, y_train, verbose=0)\n",
    "best_parameters = grid_search.best_params_\n",
    "best_accuracy = grid_search.best_score_"
   ]
  },
  {
   "cell_type": "code",
   "execution_count": null,
   "metadata": {},
   "outputs": [
    {
     "name": "stdout",
     "output_type": "stream",
     "text": [
      "0.853375\n",
      "{'batch_size': 10, 'epochs': 250, 'optimizer': 'adam'}\n"
     ]
    }
   ],
   "source": [
    "print(\"Best accuracy: \",best_accuracy)\n",
    "print(\"Best parameters: \",best_parameters)"
   ]
  }
 ],
 "metadata": {
  "kernelspec": {
   "display_name": "Python 3",
   "language": "python",
   "name": "python3"
  },
  "language_info": {
   "codemirror_mode": {
    "name": "ipython",
    "version": 3
   },
   "file_extension": ".py",
   "mimetype": "text/x-python",
   "name": "python",
   "nbconvert_exporter": "python",
   "pygments_lexer": "ipython3",
   "version": "3.10.9"
  }
 },
 "nbformat": 4,
 "nbformat_minor": 2
}
